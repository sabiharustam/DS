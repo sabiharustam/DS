{
 "cells": [
  {
   "cell_type": "markdown",
   "metadata": {},
   "source": [
    "# SEDS-HW3\n",
    "* Creating a functionalized block of code to compute the pairwise correlation between rows in a pandas data frame.\n",
    "* One for the whole entity `pairwise_correlation`, one for comparing two rows `corr_rowi_rowj`, and one for comparing one row to all the other rows `corr_rowi_vs_all`.\n",
    "* Move your functions to `df_utils.py` and import that file and the functions into the notebook.\n",
    "* For each function, create cell with _assert_ statements that tests various aspects of your function, including handling oddball inputs, expected outputs (size, shape and values).  Try to have at least three tests per function.\n",
    "* Convert the cells to unit test functions and save them to `test_df_utils.py`.  _Hint_ Don't forget to name the functions with the ``test_`` prefix!\n",
    "* Run the unit tests with `nosetests` at the command line and paste the output into this README.md below."
   ]
  },
  {
   "cell_type": "code",
   "execution_count": 6,
   "metadata": {},
   "outputs": [],
   "source": [
    "# import all the needed databases\n",
    "import pandas as pd\n",
    "import numpy as np\n",
    "import math"
   ]
  },
  {
   "cell_type": "markdown",
   "metadata": {},
   "source": [
    "<div class=\"alert alert-block alert-info\">\n",
    "<b>Thought process:</b> In test driven coding, I would like to start with writing tests first and keep updating the code till the test passes. In class example is a good one to use as test since it covers the upper and lower boundery as well as the middle point.\n",
    "</div>"
   ]
  },
  {
   "cell_type": "code",
   "execution_count": 10,
   "metadata": {},
   "outputs": [],
   "source": [
    "def PCF(df):\n",
    "    row_correlations = df.corr()\n",
    "    row_correlations.loc[:, :] = np.tril(row_correlations, k=-1)\n",
    "    row_pairs = row_correlations.stack()\n",
    "    return row_pairs.to_dict()"
   ]
  },
  {
   "cell_type": "markdown",
   "metadata": {},
   "source": [
    "##### Start with function that calculates the pairwise correlation between two rows.<br>\n",
    "Test function I'll use the dataframe we used in class. Since it is simple, it covers the boundary condition \n",
    "for the pairwise correlation function also the middle point. "
   ]
  },
  {
   "cell_type": "code",
   "execution_count": 26,
   "metadata": {},
   "outputs": [],
   "source": [
    "def test_corr_rowi_rowj():\n",
    "    test = pd.DataFrame([[-1,0,1],[1,0,-1],[.5,0,.5]],index=['A','B','C'],columns=['V1','V2','V3'])\n",
    "    assert math.isclose(corr_rowi_rowj(test.loc['A'],test.loc['A']), 1)\n",
    "    assert math.isclose(corr_rowi_rowj(test.loc['A'],test.loc['B']),-1)\n",
    "    assert math.isclose(corr_rowi_rowj(test.loc['A'],test.loc['C']),0)\n",
    "    print(\"Passed the test!\")"
   ]
  },
  {
   "cell_type": "code",
   "execution_count": 80,
   "metadata": {},
   "outputs": [],
   "source": [
    "def corr_rowi_rowj(row_i,row_j):\n",
    "    \"\"\"This function will compute the correlation of two given rows. Input i and j correspondes to the rows that\n",
    "    you want to calculate the correlation.\n",
    "    for i,j: you should input df.loc['i'] df is the dataframe name that you have, i and j is the index of the row.\n",
    "    by using loc['i'] you can locate the row with its index i\"\"\"\n",
    "    return row_i.corr(row_j)"
   ]
  },
  {
   "cell_type": "code",
   "execution_count": 81,
   "metadata": {},
   "outputs": [
    {
     "name": "stdout",
     "output_type": "stream",
     "text": [
      "Passed the test!\n"
     ]
    }
   ],
   "source": [
    "test_corr_rowi_rowj()"
   ]
  },
  {
   "cell_type": "code",
   "execution_count": 82,
   "metadata": {},
   "outputs": [
    {
     "data": {
      "text/plain": [
       "-1.0"
      ]
     },
     "execution_count": 82,
     "metadata": {},
     "output_type": "execute_result"
    }
   ],
   "source": [
    "corr_rowi_rowj(test.loc['A'],test.loc['B'])"
   ]
  },
  {
   "cell_type": "code",
   "execution_count": 83,
   "metadata": {},
   "outputs": [
    {
     "data": {
      "text/html": [
       "<div>\n",
       "<style scoped>\n",
       "    .dataframe tbody tr th:only-of-type {\n",
       "        vertical-align: middle;\n",
       "    }\n",
       "\n",
       "    .dataframe tbody tr th {\n",
       "        vertical-align: top;\n",
       "    }\n",
       "\n",
       "    .dataframe thead th {\n",
       "        text-align: right;\n",
       "    }\n",
       "</style>\n",
       "<table border=\"1\" class=\"dataframe\">\n",
       "  <thead>\n",
       "    <tr style=\"text-align: right;\">\n",
       "      <th></th>\n",
       "      <th>A</th>\n",
       "      <th>B</th>\n",
       "      <th>C</th>\n",
       "    </tr>\n",
       "  </thead>\n",
       "  <tbody>\n",
       "    <tr>\n",
       "      <th>A</th>\n",
       "      <td>1.0</td>\n",
       "      <td>-1.0</td>\n",
       "      <td>0.0</td>\n",
       "    </tr>\n",
       "    <tr>\n",
       "      <th>B</th>\n",
       "      <td>-1.0</td>\n",
       "      <td>1.0</td>\n",
       "      <td>0.0</td>\n",
       "    </tr>\n",
       "    <tr>\n",
       "      <th>C</th>\n",
       "      <td>0.0</td>\n",
       "      <td>0.0</td>\n",
       "      <td>1.0</td>\n",
       "    </tr>\n",
       "  </tbody>\n",
       "</table>\n",
       "</div>"
      ],
      "text/plain": [
       "     A    B    C\n",
       "A  1.0 -1.0  0.0\n",
       "B -1.0  1.0  0.0\n",
       "C  0.0  0.0  1.0"
      ]
     },
     "execution_count": 83,
     "metadata": {},
     "output_type": "execute_result"
    }
   ],
   "source": [
    "test.T.corr()"
   ]
  },
  {
   "cell_type": "markdown",
   "metadata": {},
   "source": [
    "##### Now is the function to calculate correlation of the given row to all the other rows.\n",
    "For test function I am still using the same dataframe. "
   ]
  },
  {
   "cell_type": "code",
   "execution_count": 84,
   "metadata": {},
   "outputs": [],
   "source": [
    "test = pd.DataFrame([[-1,0,1],[1,0,-1],[.5,0,.5]],index=['A','B','C'],columns=['V1','V2','V3'])"
   ]
  },
  {
   "cell_type": "code",
   "execution_count": 126,
   "metadata": {},
   "outputs": [],
   "source": [
    "def test_corr_rowi_vs_all():\n",
    "    test = pd.DataFrame([[-1,0,1],[1,0,-1],[.5,0,.5]],index=['A','B','C'],columns=['V1','V2','V3'])\n",
    "    out=corr_rowi_vs_all(test)\n",
    "    assert math.isclose(out.loc['A'], (1,-1,0))\n",
    "    assert math.isclose(out.loc['B'],(-1,1,0))\n",
    "    assert math.isclose(out.loc['C'],(0,0,1))\n",
    "    print(\"Passed the test!\")"
   ]
  },
  {
   "cell_type": "code",
   "execution_count": 118,
   "metadata": {},
   "outputs": [],
   "source": [
    "def corr_rowi_vs_all(df, row_i):\n",
    "    \"\"\"This function computes the correlation of given row to all the other rows in the dataframe.\"\"\"\n",
    "    for index_j, row_j in df.iterrows():\n",
    "        corr = corr_rowi_rowj(row_i,row_j)\n",
    "    return \n"
   ]
  },
  {
   "cell_type": "code",
   "execution_count": 119,
   "metadata": {},
   "outputs": [
    {
     "name": "stdout",
     "output_type": "stream",
     "text": [
      "None\n"
     ]
    }
   ],
   "source": [
    "print(corr_rowi_vs_all(test,test.loc['A']))"
   ]
  },
  {
   "cell_type": "code",
   "execution_count": 101,
   "metadata": {},
   "outputs": [],
   "source": [
    "def pairwise_correlation(df):\n",
    "    metric = pd.DataFrame()\n",
    "    for index_i, row_i in df.iterrows():\n",
    "        row_i_to_all_rows(df, index_i, row_i, metric)\n",
    "    return metric"
   ]
  },
  {
   "cell_type": "code",
   "execution_count": null,
   "metadata": {},
   "outputs": [],
   "source": [
    "def corr_rowi_vs_all(df):\n",
    "    \"\"\"This function computes the correlation of given row to all the other rows in the dataframe.\"\"\"\n",
    "    d = pd.DataFrame(index=df.index, columns=df.index)\n",
    "    for index_i, row_i in df.iterrows():\n",
    "        for index_j, row_j in df.iterrows():\n",
    "            corr = corr_rowi_rowj(row_i,row_j)\n",
    "            d[index_i][index_j]= corr\n",
    "    return d\n"
   ]
  },
  {
   "cell_type": "code",
   "execution_count": 127,
   "metadata": {},
   "outputs": [
    {
     "ename": "TypeError",
     "evalue": "corr_rowi_vs_all() missing 1 required positional argument: 'row_i'",
     "output_type": "error",
     "traceback": [
      "\u001b[0;31m---------------------------------------------------------------------------\u001b[0m",
      "\u001b[0;31mTypeError\u001b[0m                                 Traceback (most recent call last)",
      "\u001b[0;32m<ipython-input-127-6ae6c232b7f4>\u001b[0m in \u001b[0;36m<module>\u001b[0;34m()\u001b[0m\n\u001b[0;32m----> 1\u001b[0;31m \u001b[0mtest_corr_rowi_vs_all\u001b[0m\u001b[0;34m(\u001b[0m\u001b[0;34m)\u001b[0m\u001b[0;34m\u001b[0m\u001b[0m\n\u001b[0m",
      "\u001b[0;32m<ipython-input-126-a7eb7b34daf0>\u001b[0m in \u001b[0;36mtest_corr_rowi_vs_all\u001b[0;34m()\u001b[0m\n\u001b[1;32m      1\u001b[0m \u001b[0;32mdef\u001b[0m \u001b[0mtest_corr_rowi_vs_all\u001b[0m\u001b[0;34m(\u001b[0m\u001b[0;34m)\u001b[0m\u001b[0;34m:\u001b[0m\u001b[0;34m\u001b[0m\u001b[0m\n\u001b[1;32m      2\u001b[0m     \u001b[0mtest\u001b[0m \u001b[0;34m=\u001b[0m \u001b[0mpd\u001b[0m\u001b[0;34m.\u001b[0m\u001b[0mDataFrame\u001b[0m\u001b[0;34m(\u001b[0m\u001b[0;34m[\u001b[0m\u001b[0;34m[\u001b[0m\u001b[0;34m-\u001b[0m\u001b[0;36m1\u001b[0m\u001b[0;34m,\u001b[0m\u001b[0;36m0\u001b[0m\u001b[0;34m,\u001b[0m\u001b[0;36m1\u001b[0m\u001b[0;34m]\u001b[0m\u001b[0;34m,\u001b[0m\u001b[0;34m[\u001b[0m\u001b[0;36m1\u001b[0m\u001b[0;34m,\u001b[0m\u001b[0;36m0\u001b[0m\u001b[0;34m,\u001b[0m\u001b[0;34m-\u001b[0m\u001b[0;36m1\u001b[0m\u001b[0;34m]\u001b[0m\u001b[0;34m,\u001b[0m\u001b[0;34m[\u001b[0m\u001b[0;36m.5\u001b[0m\u001b[0;34m,\u001b[0m\u001b[0;36m0\u001b[0m\u001b[0;34m,\u001b[0m\u001b[0;36m.5\u001b[0m\u001b[0;34m]\u001b[0m\u001b[0;34m]\u001b[0m\u001b[0;34m,\u001b[0m\u001b[0mindex\u001b[0m\u001b[0;34m=\u001b[0m\u001b[0;34m[\u001b[0m\u001b[0;34m'A'\u001b[0m\u001b[0;34m,\u001b[0m\u001b[0;34m'B'\u001b[0m\u001b[0;34m,\u001b[0m\u001b[0;34m'C'\u001b[0m\u001b[0;34m]\u001b[0m\u001b[0;34m,\u001b[0m\u001b[0mcolumns\u001b[0m\u001b[0;34m=\u001b[0m\u001b[0;34m[\u001b[0m\u001b[0;34m'V1'\u001b[0m\u001b[0;34m,\u001b[0m\u001b[0;34m'V2'\u001b[0m\u001b[0;34m,\u001b[0m\u001b[0;34m'V3'\u001b[0m\u001b[0;34m]\u001b[0m\u001b[0;34m)\u001b[0m\u001b[0;34m\u001b[0m\u001b[0m\n\u001b[0;32m----> 3\u001b[0;31m     \u001b[0mout\u001b[0m\u001b[0;34m=\u001b[0m\u001b[0mcorr_rowi_vs_all\u001b[0m\u001b[0;34m(\u001b[0m\u001b[0mtest\u001b[0m\u001b[0;34m)\u001b[0m\u001b[0;34m\u001b[0m\u001b[0m\n\u001b[0m\u001b[1;32m      4\u001b[0m     \u001b[0;32massert\u001b[0m \u001b[0mmath\u001b[0m\u001b[0;34m.\u001b[0m\u001b[0misclose\u001b[0m\u001b[0;34m(\u001b[0m\u001b[0mout\u001b[0m\u001b[0;34m.\u001b[0m\u001b[0mloc\u001b[0m\u001b[0;34m[\u001b[0m\u001b[0;34m'A'\u001b[0m\u001b[0;34m]\u001b[0m\u001b[0;34m,\u001b[0m \u001b[0;34m(\u001b[0m\u001b[0;36m1\u001b[0m\u001b[0;34m,\u001b[0m\u001b[0;34m-\u001b[0m\u001b[0;36m1\u001b[0m\u001b[0;34m,\u001b[0m\u001b[0;36m0\u001b[0m\u001b[0;34m)\u001b[0m\u001b[0;34m)\u001b[0m\u001b[0;34m\u001b[0m\u001b[0m\n\u001b[1;32m      5\u001b[0m     \u001b[0;32massert\u001b[0m \u001b[0mmath\u001b[0m\u001b[0;34m.\u001b[0m\u001b[0misclose\u001b[0m\u001b[0;34m(\u001b[0m\u001b[0mout\u001b[0m\u001b[0;34m.\u001b[0m\u001b[0mloc\u001b[0m\u001b[0;34m[\u001b[0m\u001b[0;34m'B'\u001b[0m\u001b[0;34m]\u001b[0m\u001b[0;34m,\u001b[0m\u001b[0;34m(\u001b[0m\u001b[0;34m-\u001b[0m\u001b[0;36m1\u001b[0m\u001b[0;34m,\u001b[0m\u001b[0;36m1\u001b[0m\u001b[0;34m,\u001b[0m\u001b[0;36m0\u001b[0m\u001b[0;34m)\u001b[0m\u001b[0;34m)\u001b[0m\u001b[0;34m\u001b[0m\u001b[0m\n",
      "\u001b[0;31mTypeError\u001b[0m: corr_rowi_vs_all() missing 1 required positional argument: 'row_i'"
     ]
    }
   ],
   "source": [
    "test_corr_rowi_vs_all()"
   ]
  },
  {
   "cell_type": "code",
   "execution_count": null,
   "metadata": {},
   "outputs": [],
   "source": []
  },
  {
   "cell_type": "code",
   "execution_count": null,
   "metadata": {},
   "outputs": [],
   "source": []
  },
  {
   "cell_type": "code",
   "execution_count": 22,
   "metadata": {},
   "outputs": [],
   "source": [
    "def test_PCF():\n",
    "    test = pd.DataFrame([[-1,0,1],[1,0,-1],[.5,0,.5]],index=['A','B','C'],columns=['V1','V2','V3'])\n",
    "    out = PCF(test)\n",
    "    assert math.isclose(out.loc['A']['A'],1)\n",
    "    assert math.isclose(out.loc['A']['B'],-1)\n",
    "    assert math.isclose(out.loc['A']['C'],0)\n",
    "    print(\"it passed!\")"
   ]
  },
  {
   "cell_type": "code",
   "execution_count": 23,
   "metadata": {},
   "outputs": [],
   "source": [
    "def PCF(df):\n",
    "    matrix = pd.DataFrame(index=df.index, columns=df.index)\n",
    "    for index_i, row_i in df.iterrows():\n",
    "        for index_j, row_j in df.iterrows():\n",
    "            corr_result = np.corrcoef(row_i, row_j)\n",
    "            matrix[index_i][index_j] = corr_result[0][1]            \n",
    "    return matrix"
   ]
  },
  {
   "cell_type": "code",
   "execution_count": 24,
   "metadata": {},
   "outputs": [
    {
     "name": "stdout",
     "output_type": "stream",
     "text": [
      "it passed!\n"
     ]
    }
   ],
   "source": [
    "test_PCF()"
   ]
  },
  {
   "cell_type": "code",
   "execution_count": null,
   "metadata": {},
   "outputs": [],
   "source": []
  }
 ],
 "metadata": {
  "kernelspec": {
   "display_name": "Python 3",
   "language": "python",
   "name": "python3"
  },
  "language_info": {
   "codemirror_mode": {
    "name": "ipython",
    "version": 3
   },
   "file_extension": ".py",
   "mimetype": "text/x-python",
   "name": "python",
   "nbconvert_exporter": "python",
   "pygments_lexer": "ipython3",
   "version": "3.6.5"
  }
 },
 "nbformat": 4,
 "nbformat_minor": 2
}
