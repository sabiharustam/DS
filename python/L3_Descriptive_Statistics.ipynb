{
 "cells": [
  {
   "cell_type": "markdown",
   "metadata": {},
   "source": [
    "## Playing with sampling and the Central Limit Theorem"
   ]
  },
  {
   "cell_type": "markdown",
   "metadata": {},
   "source": [
    "Begin with imports:"
   ]
  },
  {
   "cell_type": "code",
   "execution_count": null,
   "metadata": {},
   "outputs": [],
   "source": [
    "import pandas as pd\n",
    "import numpy as np\n",
    "import matplotlib.pyplot as plt \n",
    "%matplotlib inline"
   ]
  },
  {
   "cell_type": "markdown",
   "metadata": {},
   "source": [
    "Let's create a population that isn't normally distributed we will concatenate several normal distributions to do so:"
   ]
  },
  {
   "cell_type": "code",
   "execution_count": null,
   "metadata": {},
   "outputs": [],
   "source": [
    "d1 = np.random.normal(loc=-6.4, scale=1.2, size = 40000)\n",
    "d2 = np.random.normal(loc=4, scale=10, size = 16000)\n",
    "d3 = np.random.normal(loc=22, scale=8, size = 72000)\n",
    "\n",
    "population = np.concatenate([d1,d2,d3])\n",
    "pop = pd.DataFrame(data=population, columns=['population'])\n",
    "pop.head()"
   ]
  },
  {
   "cell_type": "markdown",
   "metadata": {},
   "source": [
    "## Make a histogram. Play around with bin size"
   ]
  },
  {
   "cell_type": "markdown",
   "metadata": {},
   "source": [
    "Hint: there are multiple ways to do this. Try numpy.histogram or the pandas method hist."
   ]
  },
  {
   "cell_type": "code",
   "execution_count": null,
   "metadata": {},
   "outputs": [],
   "source": [
    "pop['population'].hist(bins=100)"
   ]
  },
  {
   "cell_type": "markdown",
   "metadata": {},
   "source": [
    "Extra: Try displaying the data using an alternate visualization technique, a violin plot. Seaborn has a built-in method that is useful for this."
   ]
  },
  {
   "cell_type": "code",
   "execution_count": null,
   "metadata": {},
   "outputs": [],
   "source": [
    "import seaborn as sns\n",
    "ax = sns.violinplot(y='population',data=pop)"
   ]
  },
  {
   "cell_type": "markdown",
   "metadata": {},
   "source": [
    "## Make a kernel density estimate of the population distribution"
   ]
  },
  {
   "cell_type": "markdown",
   "metadata": {},
   "source": [
    "Hint: pandas.DataFrame.plot.kde"
   ]
  },
  {
   "cell_type": "code",
   "execution_count": null,
   "metadata": {},
   "outputs": [],
   "source": [
    "pop.plot.kde()"
   ]
  },
  {
   "cell_type": "markdown",
   "metadata": {},
   "source": [
    "## Compute the mean of the population"
   ]
  },
  {
   "cell_type": "code",
   "execution_count": null,
   "metadata": {},
   "outputs": [],
   "source": [
    "pop['population'].mean()"
   ]
  },
  {
   "cell_type": "markdown",
   "metadata": {},
   "source": [
    "## Computer the standard deviation of the population"
   ]
  },
  {
   "cell_type": "code",
   "execution_count": null,
   "metadata": {},
   "outputs": [],
   "source": [
    "pop['population'].std()"
   ]
  },
  {
   "cell_type": "markdown",
   "metadata": {},
   "source": [
    "## We have described our population. Now let's draw a sample of size n and look at the distrubtion of our sample mean and s.d."
   ]
  },
  {
   "cell_type": "markdown",
   "metadata": {},
   "source": [
    "Write a function that samples the pop dataframe with an argument n that is the number of samples to take. Sample without replacement."
   ]
  },
  {
   "cell_type": "code",
   "execution_count": null,
   "metadata": {},
   "outputs": [],
   "source": [
    "def draw_sample(pop, n):\n",
    "    data = pd.DataFrame(np.random.choice(pop,size=n, replace=False),columns=['population_sample'])\n",
    "    return data"
   ]
  },
  {
   "cell_type": "code",
   "execution_count": null,
   "metadata": {},
   "outputs": [],
   "source": [
    "def draw(pop, n):\n",
    "    data = pop.sample(n)\n",
    "    return data\n",
    "\n"
   ]
  },
  {
   "cell_type": "code",
   "execution_count": null,
   "metadata": {},
   "outputs": [],
   "source": [
    "draw(pop['population'], 100)"
   ]
  },
  {
   "cell_type": "code",
   "execution_count": null,
   "metadata": {},
   "outputs": [],
   "source": [
    "draw_sample(pop['population'], 100)"
   ]
  },
  {
   "cell_type": "code",
   "execution_count": null,
   "metadata": {},
   "outputs": [],
   "source": []
  },
  {
   "cell_type": "markdown",
   "metadata": {},
   "source": [
    "## Now we want to draw repeated samples of size *n* from the population"
   ]
  },
  {
   "cell_type": "markdown",
   "metadata": {},
   "source": [
    "Create another function that calls the first `samples` times. Have `samples` be an argument to the function along with n which is the argument to the first function. For each sample, append the mean and the standard deviation of the sample to two separate lists and return them."
   ]
  },
  {
   "cell_type": "markdown",
   "metadata": {},
   "source": [
    "Hint: use a loop with    range(samples) iterations. To create an empty list at the start of a function, try something like:\n",
    "\n",
    "    def repeat_samples(samples, n):  \n",
    "      means = []  \n",
    "      sds = []  \n",
    "      ...  \n",
    "      return (means, sds)\n",
    "    \n",
    "then use the append method to append each mean and sd value to the end of each respective list."
   ]
  },
  {
   "cell_type": "code",
   "execution_count": null,
   "metadata": {},
   "outputs": [],
   "source": [
    "def repeat_samples(samples, n):\n",
    "    means = [] \n",
    "    sds = []\n",
    "    \n",
    "    for i in range(samples):\n",
    "        sample = draw_sample(pop['population'],n)\n",
    "        means.append(sample['population_sample'].mean)\n",
    "        sds.append(sample['population_sample'].std)\n",
    "    return (means, sds)"
   ]
  },
  {
   "cell_type": "code",
   "execution_count": 38,
   "metadata": {},
   "outputs": [],
   "source": [
    "def repeat_samples(samples, n):\n",
    "    means = [] \n",
    "    sds = []\n",
    "    for i in range(samples):\n",
    "        sample = np.random.choice(pop['population'],size=n, replace=False)\n",
    "        means.append(sample.mean())\n",
    "        sds.append(sample.std())\n",
    "        means_sds = pd.DataFrame({'means': means,'sds':sds})\n",
    "    return (means_sds)"
   ]
  },
  {
   "cell_type": "code",
   "execution_count": 39,
   "metadata": {},
   "outputs": [
    {
     "data": {
      "text/html": [
       "<div>\n",
       "<style scoped>\n",
       "    .dataframe tbody tr th:only-of-type {\n",
       "        vertical-align: middle;\n",
       "    }\n",
       "\n",
       "    .dataframe tbody tr th {\n",
       "        vertical-align: top;\n",
       "    }\n",
       "\n",
       "    .dataframe thead th {\n",
       "        text-align: right;\n",
       "    }\n",
       "</style>\n",
       "<table border=\"1\" class=\"dataframe\">\n",
       "  <thead>\n",
       "    <tr style=\"text-align: right;\">\n",
       "      <th></th>\n",
       "      <th>means</th>\n",
       "      <th>sds</th>\n",
       "    </tr>\n",
       "  </thead>\n",
       "  <tbody>\n",
       "    <tr>\n",
       "      <th>0</th>\n",
       "      <td>9.122884</td>\n",
       "      <td>14.760745</td>\n",
       "    </tr>\n",
       "    <tr>\n",
       "      <th>1</th>\n",
       "      <td>10.988336</td>\n",
       "      <td>13.497027</td>\n",
       "    </tr>\n",
       "    <tr>\n",
       "      <th>2</th>\n",
       "      <td>11.324318</td>\n",
       "      <td>15.484101</td>\n",
       "    </tr>\n",
       "    <tr>\n",
       "      <th>3</th>\n",
       "      <td>12.356518</td>\n",
       "      <td>13.668917</td>\n",
       "    </tr>\n",
       "    <tr>\n",
       "      <th>4</th>\n",
       "      <td>13.918663</td>\n",
       "      <td>15.032178</td>\n",
       "    </tr>\n",
       "    <tr>\n",
       "      <th>5</th>\n",
       "      <td>12.173758</td>\n",
       "      <td>15.420337</td>\n",
       "    </tr>\n",
       "    <tr>\n",
       "      <th>6</th>\n",
       "      <td>9.619925</td>\n",
       "      <td>15.842289</td>\n",
       "    </tr>\n",
       "    <tr>\n",
       "      <th>7</th>\n",
       "      <td>13.794991</td>\n",
       "      <td>14.743482</td>\n",
       "    </tr>\n",
       "    <tr>\n",
       "      <th>8</th>\n",
       "      <td>17.193207</td>\n",
       "      <td>13.057733</td>\n",
       "    </tr>\n",
       "    <tr>\n",
       "      <th>9</th>\n",
       "      <td>8.499580</td>\n",
       "      <td>13.281619</td>\n",
       "    </tr>\n",
       "    <tr>\n",
       "      <th>10</th>\n",
       "      <td>9.456831</td>\n",
       "      <td>16.520928</td>\n",
       "    </tr>\n",
       "    <tr>\n",
       "      <th>11</th>\n",
       "      <td>13.364159</td>\n",
       "      <td>14.201388</td>\n",
       "    </tr>\n",
       "    <tr>\n",
       "      <th>12</th>\n",
       "      <td>7.247279</td>\n",
       "      <td>13.828839</td>\n",
       "    </tr>\n",
       "    <tr>\n",
       "      <th>13</th>\n",
       "      <td>15.565741</td>\n",
       "      <td>14.593441</td>\n",
       "    </tr>\n",
       "    <tr>\n",
       "      <th>14</th>\n",
       "      <td>10.970681</td>\n",
       "      <td>14.675445</td>\n",
       "    </tr>\n",
       "    <tr>\n",
       "      <th>15</th>\n",
       "      <td>10.280672</td>\n",
       "      <td>14.583460</td>\n",
       "    </tr>\n",
       "    <tr>\n",
       "      <th>16</th>\n",
       "      <td>8.530571</td>\n",
       "      <td>12.893872</td>\n",
       "    </tr>\n",
       "    <tr>\n",
       "      <th>17</th>\n",
       "      <td>16.029721</td>\n",
       "      <td>14.272981</td>\n",
       "    </tr>\n",
       "    <tr>\n",
       "      <th>18</th>\n",
       "      <td>16.515983</td>\n",
       "      <td>15.741929</td>\n",
       "    </tr>\n",
       "    <tr>\n",
       "      <th>19</th>\n",
       "      <td>9.668538</td>\n",
       "      <td>15.008494</td>\n",
       "    </tr>\n",
       "    <tr>\n",
       "      <th>20</th>\n",
       "      <td>13.008276</td>\n",
       "      <td>13.795706</td>\n",
       "    </tr>\n",
       "    <tr>\n",
       "      <th>21</th>\n",
       "      <td>7.577581</td>\n",
       "      <td>14.632995</td>\n",
       "    </tr>\n",
       "    <tr>\n",
       "      <th>22</th>\n",
       "      <td>12.853248</td>\n",
       "      <td>14.568913</td>\n",
       "    </tr>\n",
       "    <tr>\n",
       "      <th>23</th>\n",
       "      <td>7.164013</td>\n",
       "      <td>13.850305</td>\n",
       "    </tr>\n",
       "    <tr>\n",
       "      <th>24</th>\n",
       "      <td>9.307907</td>\n",
       "      <td>16.397595</td>\n",
       "    </tr>\n",
       "    <tr>\n",
       "      <th>25</th>\n",
       "      <td>11.791629</td>\n",
       "      <td>15.794174</td>\n",
       "    </tr>\n",
       "    <tr>\n",
       "      <th>26</th>\n",
       "      <td>12.721344</td>\n",
       "      <td>14.853281</td>\n",
       "    </tr>\n",
       "    <tr>\n",
       "      <th>27</th>\n",
       "      <td>7.714933</td>\n",
       "      <td>14.712050</td>\n",
       "    </tr>\n",
       "    <tr>\n",
       "      <th>28</th>\n",
       "      <td>9.439727</td>\n",
       "      <td>14.634428</td>\n",
       "    </tr>\n",
       "    <tr>\n",
       "      <th>29</th>\n",
       "      <td>11.320255</td>\n",
       "      <td>14.868090</td>\n",
       "    </tr>\n",
       "    <tr>\n",
       "      <th>30</th>\n",
       "      <td>13.272509</td>\n",
       "      <td>13.632195</td>\n",
       "    </tr>\n",
       "    <tr>\n",
       "      <th>31</th>\n",
       "      <td>8.482049</td>\n",
       "      <td>15.209072</td>\n",
       "    </tr>\n",
       "    <tr>\n",
       "      <th>32</th>\n",
       "      <td>9.877980</td>\n",
       "      <td>13.823796</td>\n",
       "    </tr>\n",
       "    <tr>\n",
       "      <th>33</th>\n",
       "      <td>15.866424</td>\n",
       "      <td>14.733756</td>\n",
       "    </tr>\n",
       "    <tr>\n",
       "      <th>34</th>\n",
       "      <td>10.484972</td>\n",
       "      <td>13.860748</td>\n",
       "    </tr>\n",
       "    <tr>\n",
       "      <th>35</th>\n",
       "      <td>16.170209</td>\n",
       "      <td>16.114692</td>\n",
       "    </tr>\n",
       "    <tr>\n",
       "      <th>36</th>\n",
       "      <td>6.547820</td>\n",
       "      <td>13.293953</td>\n",
       "    </tr>\n",
       "    <tr>\n",
       "      <th>37</th>\n",
       "      <td>10.843073</td>\n",
       "      <td>15.011111</td>\n",
       "    </tr>\n",
       "    <tr>\n",
       "      <th>38</th>\n",
       "      <td>13.091171</td>\n",
       "      <td>15.400260</td>\n",
       "    </tr>\n",
       "    <tr>\n",
       "      <th>39</th>\n",
       "      <td>10.541499</td>\n",
       "      <td>15.122210</td>\n",
       "    </tr>\n",
       "  </tbody>\n",
       "</table>\n",
       "</div>"
      ],
      "text/plain": [
       "        means        sds\n",
       "0    9.122884  14.760745\n",
       "1   10.988336  13.497027\n",
       "2   11.324318  15.484101\n",
       "3   12.356518  13.668917\n",
       "4   13.918663  15.032178\n",
       "5   12.173758  15.420337\n",
       "6    9.619925  15.842289\n",
       "7   13.794991  14.743482\n",
       "8   17.193207  13.057733\n",
       "9    8.499580  13.281619\n",
       "10   9.456831  16.520928\n",
       "11  13.364159  14.201388\n",
       "12   7.247279  13.828839\n",
       "13  15.565741  14.593441\n",
       "14  10.970681  14.675445\n",
       "15  10.280672  14.583460\n",
       "16   8.530571  12.893872\n",
       "17  16.029721  14.272981\n",
       "18  16.515983  15.741929\n",
       "19   9.668538  15.008494\n",
       "20  13.008276  13.795706\n",
       "21   7.577581  14.632995\n",
       "22  12.853248  14.568913\n",
       "23   7.164013  13.850305\n",
       "24   9.307907  16.397595\n",
       "25  11.791629  15.794174\n",
       "26  12.721344  14.853281\n",
       "27   7.714933  14.712050\n",
       "28   9.439727  14.634428\n",
       "29  11.320255  14.868090\n",
       "30  13.272509  13.632195\n",
       "31   8.482049  15.209072\n",
       "32   9.877980  13.823796\n",
       "33  15.866424  14.733756\n",
       "34  10.484972  13.860748\n",
       "35  16.170209  16.114692\n",
       "36   6.547820  13.293953\n",
       "37  10.843073  15.011111\n",
       "38  13.091171  15.400260\n",
       "39  10.541499  15.122210"
      ]
     },
     "execution_count": 39,
     "metadata": {},
     "output_type": "execute_result"
    }
   ],
   "source": [
    "repeat_samples(40, 30)"
   ]
  },
  {
   "cell_type": "code",
   "execution_count": null,
   "metadata": {},
   "outputs": [],
   "source": [
    "len(means)"
   ]
  },
  {
   "cell_type": "markdown",
   "metadata": {},
   "source": [
    "## Almost there!"
   ]
  },
  {
   "cell_type": "markdown",
   "metadata": {},
   "source": [
    "Now make a function with two arguments `samples` and `n` that takes the return values from the last function and\n",
    "* converts the lists to a single dataframe\n",
    "* plots two histograms of the columns (mean, sd)\n",
    "* prints out the mean and sd of the columns\n",
    "\n",
    "Hint: to get a multi-valued return into new variables, try this:\n",
    "\n",
    "    means, sds = repeat_samples(samples, n)\n",
    "    df = pd.DataFrame(data={'means: means, 'sds': sds})"
   ]
  },
  {
   "cell_type": "code",
   "execution_count": null,
   "metadata": {},
   "outputs": [],
   "source": [
    "def repeat_samples(pop, samples, n):\n",
    "   means = []\n",
    "   sds = []\n",
    "\n",
    "   for i in range(samples):\n",
    "       sample = draw_sample(pop, n)\n",
    "       means.append(sample['sample'].mean())\n",
    "       sds.append(sample['sample'].std())\n",
    "\n",
    "   return (means, sds)"
   ]
  },
  {
   "cell_type": "code",
   "execution_count": null,
   "metadata": {},
   "outputs": [],
   "source": [
    "def describe_sample(pop, samples, n):\n",
    "   means, sds = repeat_samples(pop, samples, n)\n",
    "   df = pd.DataFrame(data={'means': means, 'sds': sds})\n",
    "\n",
    "   df.hist(bins=100)\n",
    "   print('Mean: {}'.format(np.round(df['means'].mean(), 2)))\n",
    "   print('Std Dev: {}'.format(np.round(df['sds'].mean(), 2)))\n",
    "\n",
    "   return df"
   ]
  },
  {
   "cell_type": "code",
   "execution_count": null,
   "metadata": {},
   "outputs": [],
   "source": [
    "df = describe_sample()"
   ]
  },
  {
   "cell_type": "markdown",
   "metadata": {},
   "source": [
    "## Run your final function several times with varying values of samples and n"
   ]
  },
  {
   "cell_type": "markdown",
   "metadata": {},
   "source": [
    "How did your result begin to converge on the population mean and sd?"
   ]
  },
  {
   "cell_type": "markdown",
   "metadata": {},
   "source": [
    "## Bootstrapping your data: Finding confidence intervals"
   ]
  },
  {
   "cell_type": "markdown",
   "metadata": {},
   "source": [
    "Statisticians take advantage of the central limit theorem as a method of establishing confidence intervals. Create a function that finds the nth and (100-n)th percentiles of the distribution of means found with describe_sample."
   ]
  },
  {
   "cell_type": "code",
   "execution_count": null,
   "metadata": {},
   "outputs": [],
   "source": []
  },
  {
   "cell_type": "code",
   "execution_count": null,
   "metadata": {},
   "outputs": [],
   "source": []
  },
  {
   "cell_type": "code",
   "execution_count": null,
   "metadata": {},
   "outputs": [],
   "source": []
  }
 ],
 "metadata": {
  "kernelspec": {
   "display_name": "Python 3",
   "language": "python",
   "name": "python3"
  },
  "language_info": {
   "codemirror_mode": {
    "name": "ipython",
    "version": 3
   },
   "file_extension": ".py",
   "mimetype": "text/x-python",
   "name": "python",
   "nbconvert_exporter": "python",
   "pygments_lexer": "ipython3",
   "version": "3.6.5"
  }
 },
 "nbformat": 4,
 "nbformat_minor": 2
}
