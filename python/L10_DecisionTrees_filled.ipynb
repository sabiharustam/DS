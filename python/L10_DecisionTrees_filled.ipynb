{
 "cells": [
  {
   "cell_type": "code",
   "execution_count": 1,
   "metadata": {},
   "outputs": [],
   "source": [
    "import numpy as np\n",
    "import matplotlib.pyplot as plt\n",
    "%matplotlib inline\n",
    "import pandas as pd\n",
    "\n",
    "from sklearn import linear_model\n",
    "from pandas.tools.plotting import scatter_matrix\n",
    "from sklearn.model_selection import train_test_split\n",
    "from sklearn.metrics import mean_squared_error\n",
    "from sklearn.linear_model import Ridge"
   ]
  },
  {
   "cell_type": "code",
   "execution_count": 2,
   "metadata": {},
   "outputs": [],
   "source": [
    "# UCI ML database - energy efficiency\n",
    "UCI_energy = pd.read_excel('https://archive.ics.uci.edu/ml/machine-learning-databases/00242/ENB2012_data.xlsx')\n",
    "\n",
    "#^ if you don't have urllib2 working you can download the csv from here: \n",
    "#     http://prg.washington.edu/DIRECTfiles/ENB2012_data.csv\n",
    "# X1\tRelative Compactness \n",
    "# X2\tSurface Area \n",
    "# X3\tWall Area \n",
    "# X4\tRoof Area \n",
    "# X5\tOverall Height \n",
    "# X6\tOrientation \n",
    "# X7\tGlazing Area \n",
    "# X8\tGlazing Area Distribution \n",
    "# y1\tHeating Load \n",
    "# y2\tCooling Load"
   ]
  },
  {
   "cell_type": "code",
   "execution_count": 3,
   "metadata": {},
   "outputs": [
    {
     "data": {
      "text/html": [
       "<div>\n",
       "<style scoped>\n",
       "    .dataframe tbody tr th:only-of-type {\n",
       "        vertical-align: middle;\n",
       "    }\n",
       "\n",
       "    .dataframe tbody tr th {\n",
       "        vertical-align: top;\n",
       "    }\n",
       "\n",
       "    .dataframe thead th {\n",
       "        text-align: right;\n",
       "    }\n",
       "</style>\n",
       "<table border=\"1\" class=\"dataframe\">\n",
       "  <thead>\n",
       "    <tr style=\"text-align: right;\">\n",
       "      <th></th>\n",
       "      <th>X1</th>\n",
       "      <th>X2</th>\n",
       "      <th>X3</th>\n",
       "      <th>X4</th>\n",
       "      <th>X5</th>\n",
       "      <th>X6</th>\n",
       "      <th>X7</th>\n",
       "      <th>X8</th>\n",
       "      <th>Y1</th>\n",
       "      <th>Y2</th>\n",
       "    </tr>\n",
       "  </thead>\n",
       "  <tbody>\n",
       "    <tr>\n",
       "      <th>count</th>\n",
       "      <td>768.000000</td>\n",
       "      <td>768.000000</td>\n",
       "      <td>768.000000</td>\n",
       "      <td>768.000000</td>\n",
       "      <td>768.00000</td>\n",
       "      <td>768.000000</td>\n",
       "      <td>768.000000</td>\n",
       "      <td>768.00000</td>\n",
       "      <td>768.000000</td>\n",
       "      <td>768.000000</td>\n",
       "    </tr>\n",
       "    <tr>\n",
       "      <th>mean</th>\n",
       "      <td>0.764167</td>\n",
       "      <td>671.708333</td>\n",
       "      <td>318.500000</td>\n",
       "      <td>176.604167</td>\n",
       "      <td>5.25000</td>\n",
       "      <td>3.500000</td>\n",
       "      <td>0.234375</td>\n",
       "      <td>2.81250</td>\n",
       "      <td>22.307195</td>\n",
       "      <td>24.587760</td>\n",
       "    </tr>\n",
       "    <tr>\n",
       "      <th>std</th>\n",
       "      <td>0.105777</td>\n",
       "      <td>88.086116</td>\n",
       "      <td>43.626481</td>\n",
       "      <td>45.165950</td>\n",
       "      <td>1.75114</td>\n",
       "      <td>1.118763</td>\n",
       "      <td>0.133221</td>\n",
       "      <td>1.55096</td>\n",
       "      <td>10.090204</td>\n",
       "      <td>9.513306</td>\n",
       "    </tr>\n",
       "    <tr>\n",
       "      <th>min</th>\n",
       "      <td>0.620000</td>\n",
       "      <td>514.500000</td>\n",
       "      <td>245.000000</td>\n",
       "      <td>110.250000</td>\n",
       "      <td>3.50000</td>\n",
       "      <td>2.000000</td>\n",
       "      <td>0.000000</td>\n",
       "      <td>0.00000</td>\n",
       "      <td>6.010000</td>\n",
       "      <td>10.900000</td>\n",
       "    </tr>\n",
       "    <tr>\n",
       "      <th>25%</th>\n",
       "      <td>0.682500</td>\n",
       "      <td>606.375000</td>\n",
       "      <td>294.000000</td>\n",
       "      <td>140.875000</td>\n",
       "      <td>3.50000</td>\n",
       "      <td>2.750000</td>\n",
       "      <td>0.100000</td>\n",
       "      <td>1.75000</td>\n",
       "      <td>12.992500</td>\n",
       "      <td>15.620000</td>\n",
       "    </tr>\n",
       "    <tr>\n",
       "      <th>50%</th>\n",
       "      <td>0.750000</td>\n",
       "      <td>673.750000</td>\n",
       "      <td>318.500000</td>\n",
       "      <td>183.750000</td>\n",
       "      <td>5.25000</td>\n",
       "      <td>3.500000</td>\n",
       "      <td>0.250000</td>\n",
       "      <td>3.00000</td>\n",
       "      <td>18.950000</td>\n",
       "      <td>22.080000</td>\n",
       "    </tr>\n",
       "    <tr>\n",
       "      <th>75%</th>\n",
       "      <td>0.830000</td>\n",
       "      <td>741.125000</td>\n",
       "      <td>343.000000</td>\n",
       "      <td>220.500000</td>\n",
       "      <td>7.00000</td>\n",
       "      <td>4.250000</td>\n",
       "      <td>0.400000</td>\n",
       "      <td>4.00000</td>\n",
       "      <td>31.667500</td>\n",
       "      <td>33.132500</td>\n",
       "    </tr>\n",
       "    <tr>\n",
       "      <th>max</th>\n",
       "      <td>0.980000</td>\n",
       "      <td>808.500000</td>\n",
       "      <td>416.500000</td>\n",
       "      <td>220.500000</td>\n",
       "      <td>7.00000</td>\n",
       "      <td>5.000000</td>\n",
       "      <td>0.400000</td>\n",
       "      <td>5.00000</td>\n",
       "      <td>43.100000</td>\n",
       "      <td>48.030000</td>\n",
       "    </tr>\n",
       "  </tbody>\n",
       "</table>\n",
       "</div>"
      ],
      "text/plain": [
       "               X1          X2          X3          X4         X5          X6  \\\n",
       "count  768.000000  768.000000  768.000000  768.000000  768.00000  768.000000   \n",
       "mean     0.764167  671.708333  318.500000  176.604167    5.25000    3.500000   \n",
       "std      0.105777   88.086116   43.626481   45.165950    1.75114    1.118763   \n",
       "min      0.620000  514.500000  245.000000  110.250000    3.50000    2.000000   \n",
       "25%      0.682500  606.375000  294.000000  140.875000    3.50000    2.750000   \n",
       "50%      0.750000  673.750000  318.500000  183.750000    5.25000    3.500000   \n",
       "75%      0.830000  741.125000  343.000000  220.500000    7.00000    4.250000   \n",
       "max      0.980000  808.500000  416.500000  220.500000    7.00000    5.000000   \n",
       "\n",
       "               X7         X8          Y1          Y2  \n",
       "count  768.000000  768.00000  768.000000  768.000000  \n",
       "mean     0.234375    2.81250   22.307195   24.587760  \n",
       "std      0.133221    1.55096   10.090204    9.513306  \n",
       "min      0.000000    0.00000    6.010000   10.900000  \n",
       "25%      0.100000    1.75000   12.992500   15.620000  \n",
       "50%      0.250000    3.00000   18.950000   22.080000  \n",
       "75%      0.400000    4.00000   31.667500   33.132500  \n",
       "max      0.400000    5.00000   43.100000   48.030000  "
      ]
     },
     "execution_count": 3,
     "metadata": {},
     "output_type": "execute_result"
    }
   ],
   "source": [
    "UCI_energy.describe()"
   ]
  },
  {
   "cell_type": "code",
   "execution_count": 4,
   "metadata": {},
   "outputs": [],
   "source": [
    "train,test=train_test_split(UCI_energy,test_size=0.2,random_state=1010)"
   ]
  },
  {
   "cell_type": "markdown",
   "metadata": {},
   "source": [
    "## Basic decision tree"
   ]
  },
  {
   "cell_type": "code",
   "execution_count": 5,
   "metadata": {},
   "outputs": [],
   "source": [
    "from sklearn import tree"
   ]
  },
  {
   "cell_type": "code",
   "execution_count": 6,
   "metadata": {},
   "outputs": [
    {
     "data": {
      "text/plain": [
       "DecisionTreeRegressor(criterion='mse', max_depth=3, max_features=None,\n",
       "           max_leaf_nodes=None, min_impurity_decrease=0.0,\n",
       "           min_impurity_split=None, min_samples_leaf=1,\n",
       "           min_samples_split=2, min_weight_fraction_leaf=0.0,\n",
       "           presort=False, random_state=None, splitter='best')"
      ]
     },
     "execution_count": 6,
     "metadata": {},
     "output_type": "execute_result"
    }
   ],
   "source": [
    "DT=tree.DecisionTreeRegressor(max_depth=3)\n",
    "DT.fit(train[['X1','X2','X3','X4','X5','X6','X7','X8']],train.Y1)"
   ]
  },
  {
   "cell_type": "markdown",
   "metadata": {
    "collapsed": true
   },
   "source": [
    "### Tree visualization and looking at the parity plot for individual instances "
   ]
  },
  {
   "cell_type": "code",
   "execution_count": 7,
   "metadata": {},
   "outputs": [],
   "source": [
    "import os\n",
    "#conda install -c conda-forge pydotplus=2.0.2\n",
    "# http://www.webgraphviz.com\n",
    "import pydotplus "
   ]
  },
  {
   "cell_type": "code",
   "execution_count": null,
   "metadata": {},
   "outputs": [],
   "source": []
  },
  {
   "cell_type": "code",
   "execution_count": 8,
   "metadata": {},
   "outputs": [],
   "source": [
    "with open(\"basic_tree.dot\", 'w') as f:\n",
    "    f = tree.export_graphviz(DT, out_file=f)"
   ]
  },
  {
   "cell_type": "code",
   "execution_count": 9,
   "metadata": {},
   "outputs": [],
   "source": [
    "#http://www.webgraphviz.com\n",
    "# os.unlink('basic_tree.dot')\n",
    "\n",
    "dot_data = tree.export_graphviz(DT, out_file=None,feature_names=['X1','X2','X3','X4','X5','X6','X7','X8'])\n",
    "graph = pydotplus.graph_from_dot_data(dot_data) \n",
    "#graph.write_pdf(\"basic_tree.pdf\") "
   ]
  },
  {
   "cell_type": "code",
   "execution_count": 11,
   "metadata": {},
   "outputs": [],
   "source": [
    "os.environ[\"PATH\"] += os.pathsep + 'C:/Users/koolk/Anaconda3/Library/bin/graphviz/'"
   ]
  },
  {
   "cell_type": "code",
   "execution_count": 12,
   "metadata": {},
   "outputs": [
    {
     "data": {
      "image/svg+xml": [
       "<svg height=\"373pt\" viewBox=\"0.00 0.00 906.00 373.00\" width=\"906pt\" xmlns=\"http://www.w3.org/2000/svg\" xmlns:xlink=\"http://www.w3.org/1999/xlink\">\n",
       "<g class=\"graph\" id=\"graph0\" transform=\"scale(1 1) rotate(0) translate(4 369)\">\n",
       "<title>Tree</title>\n",
       "<polygon fill=\"white\" points=\"-4,4 -4,-369 902,-369 902,4 -4,4\" stroke=\"none\"/>\n",
       "<!-- 0 -->\n",
       "<g class=\"node\" id=\"node1\"><title>0</title>\n",
       "<polygon fill=\"none\" points=\"491.5,-365 392.5,-365 392.5,-297 491.5,-297 491.5,-365\" stroke=\"black\"/>\n",
       "<text font-family=\"Times New Roman,serif\" font-size=\"14.00\" text-anchor=\"middle\" x=\"442\" y=\"-349.8\">X5 &lt;= 5.25</text>\n",
       "<text font-family=\"Times New Roman,serif\" font-size=\"14.00\" text-anchor=\"middle\" x=\"442\" y=\"-334.8\">mse = 102.327</text>\n",
       "<text font-family=\"Times New Roman,serif\" font-size=\"14.00\" text-anchor=\"middle\" x=\"442\" y=\"-319.8\">samples = 614</text>\n",
       "<text font-family=\"Times New Roman,serif\" font-size=\"14.00\" text-anchor=\"middle\" x=\"442\" y=\"-304.8\">value = 22.201</text>\n",
       "</g>\n",
       "<!-- 1 -->\n",
       "<g class=\"node\" id=\"node2\"><title>1</title>\n",
       "<polygon fill=\"none\" points=\"406,-261 308,-261 308,-193 406,-193 406,-261\" stroke=\"black\"/>\n",
       "<text font-family=\"Times New Roman,serif\" font-size=\"14.00\" text-anchor=\"middle\" x=\"357\" y=\"-245.8\">X7 &lt;= 0.175</text>\n",
       "<text font-family=\"Times New Roman,serif\" font-size=\"14.00\" text-anchor=\"middle\" x=\"357\" y=\"-230.8\">mse = 7.405</text>\n",
       "<text font-family=\"Times New Roman,serif\" font-size=\"14.00\" text-anchor=\"middle\" x=\"357\" y=\"-215.8\">samples = 314</text>\n",
       "<text font-family=\"Times New Roman,serif\" font-size=\"14.00\" text-anchor=\"middle\" x=\"357\" y=\"-200.8\">value = 13.377</text>\n",
       "</g>\n",
       "<!-- 0&#45;&gt;1 -->\n",
       "<g class=\"edge\" id=\"edge1\"><title>0-&gt;1</title>\n",
       "<path d=\"M414.403,-296.884C407.054,-288.065 399.025,-278.43 391.363,-269.235\" fill=\"none\" stroke=\"black\"/>\n",
       "<polygon fill=\"black\" points=\"393.84,-266.741 384.749,-261.299 388.463,-271.222 393.84,-266.741\" stroke=\"black\"/>\n",
       "<text font-family=\"Times New Roman,serif\" font-size=\"14.00\" text-anchor=\"middle\" x=\"382.486\" y=\"-282.497\">True</text>\n",
       "</g>\n",
       "<!-- 8 -->\n",
       "<g class=\"node\" id=\"node9\"><title>8</title>\n",
       "<polygon fill=\"none\" points=\"577,-261 479,-261 479,-193 577,-193 577,-261\" stroke=\"black\"/>\n",
       "<text font-family=\"Times New Roman,serif\" font-size=\"14.00\" text-anchor=\"middle\" x=\"528\" y=\"-245.8\">X1 &lt;= 0.805</text>\n",
       "<text font-family=\"Times New Roman,serif\" font-size=\"14.00\" text-anchor=\"middle\" x=\"528\" y=\"-230.8\">mse = 34.907</text>\n",
       "<text font-family=\"Times New Roman,serif\" font-size=\"14.00\" text-anchor=\"middle\" x=\"528\" y=\"-215.8\">samples = 300</text>\n",
       "<text font-family=\"Times New Roman,serif\" font-size=\"14.00\" text-anchor=\"middle\" x=\"528\" y=\"-200.8\">value = 31.436</text>\n",
       "</g>\n",
       "<!-- 0&#45;&gt;8 -->\n",
       "<g class=\"edge\" id=\"edge8\"><title>0-&gt;8</title>\n",
       "<path d=\"M469.922,-296.884C477.432,-287.976 485.645,-278.235 493.468,-268.957\" fill=\"none\" stroke=\"black\"/>\n",
       "<polygon fill=\"black\" points=\"496.154,-271.201 499.924,-261.299 490.802,-266.689 496.154,-271.201\" stroke=\"black\"/>\n",
       "<text font-family=\"Times New Roman,serif\" font-size=\"14.00\" text-anchor=\"middle\" x=\"502.044\" y=\"-282.509\">False</text>\n",
       "</g>\n",
       "<!-- 2 -->\n",
       "<g class=\"node\" id=\"node3\"><title>2</title>\n",
       "<polygon fill=\"none\" points=\"208,-157 110,-157 110,-89 208,-89 208,-157\" stroke=\"black\"/>\n",
       "<text font-family=\"Times New Roman,serif\" font-size=\"14.00\" text-anchor=\"middle\" x=\"159\" y=\"-141.8\">X7 &lt;= 0.05</text>\n",
       "<text font-family=\"Times New Roman,serif\" font-size=\"14.00\" text-anchor=\"middle\" x=\"159\" y=\"-126.8\">mse = 6.03</text>\n",
       "<text font-family=\"Times New Roman,serif\" font-size=\"14.00\" text-anchor=\"middle\" x=\"159\" y=\"-111.8\">samples = 119</text>\n",
       "<text font-family=\"Times New Roman,serif\" font-size=\"14.00\" text-anchor=\"middle\" x=\"159\" y=\"-96.8\">value = 11.342</text>\n",
       "</g>\n",
       "<!-- 1&#45;&gt;2 -->\n",
       "<g class=\"edge\" id=\"edge2\"><title>1-&gt;2</title>\n",
       "<path d=\"M307.802,-200.655C280.415,-186.547 246.152,-168.897 217.41,-154.09\" fill=\"none\" stroke=\"black\"/>\n",
       "<polygon fill=\"black\" points=\"218.781,-150.859 208.288,-149.391 215.575,-157.082 218.781,-150.859\" stroke=\"black\"/>\n",
       "</g>\n",
       "<!-- 5 -->\n",
       "<g class=\"node\" id=\"node6\"><title>5</title>\n",
       "<polygon fill=\"none\" points=\"406,-157 308,-157 308,-89 406,-89 406,-157\" stroke=\"black\"/>\n",
       "<text font-family=\"Times New Roman,serif\" font-size=\"14.00\" text-anchor=\"middle\" x=\"357\" y=\"-141.8\">X1 &lt;= 0.65</text>\n",
       "<text font-family=\"Times New Roman,serif\" font-size=\"14.00\" text-anchor=\"middle\" x=\"357\" y=\"-126.8\">mse = 4.175</text>\n",
       "<text font-family=\"Times New Roman,serif\" font-size=\"14.00\" text-anchor=\"middle\" x=\"357\" y=\"-111.8\">samples = 195</text>\n",
       "<text font-family=\"Times New Roman,serif\" font-size=\"14.00\" text-anchor=\"middle\" x=\"357\" y=\"-96.8\">value = 14.619</text>\n",
       "</g>\n",
       "<!-- 1&#45;&gt;5 -->\n",
       "<g class=\"edge\" id=\"edge5\"><title>1-&gt;5</title>\n",
       "<path d=\"M357,-192.884C357,-184.778 357,-175.982 357,-167.472\" fill=\"none\" stroke=\"black\"/>\n",
       "<polygon fill=\"black\" points=\"360.5,-167.299 357,-157.299 353.5,-167.299 360.5,-167.299\" stroke=\"black\"/>\n",
       "</g>\n",
       "<!-- 3 -->\n",
       "<g class=\"node\" id=\"node4\"><title>3</title>\n",
       "<polygon fill=\"none\" points=\"92,-53 0,-53 0,-0 92,-0 92,-53\" stroke=\"black\"/>\n",
       "<text font-family=\"Times New Roman,serif\" font-size=\"14.00\" text-anchor=\"middle\" x=\"46\" y=\"-37.8\">mse = 2.725</text>\n",
       "<text font-family=\"Times New Roman,serif\" font-size=\"14.00\" text-anchor=\"middle\" x=\"46\" y=\"-22.8\">samples = 21</text>\n",
       "<text font-family=\"Times New Roman,serif\" font-size=\"14.00\" text-anchor=\"middle\" x=\"46\" y=\"-7.8\">value = 7.558</text>\n",
       "</g>\n",
       "<!-- 2&#45;&gt;3 -->\n",
       "<g class=\"edge\" id=\"edge3\"><title>2-&gt;3</title>\n",
       "<path d=\"M119.478,-88.9485C108.211,-79.526 95.951,-69.2731 84.7316,-59.8906\" fill=\"none\" stroke=\"black\"/>\n",
       "<polygon fill=\"black\" points=\"86.6915,-56.967 76.7751,-53.2367 82.2009,-62.3368 86.6915,-56.967\" stroke=\"black\"/>\n",
       "</g>\n",
       "<!-- 4 -->\n",
       "<g class=\"node\" id=\"node5\"><title>4</title>\n",
       "<polygon fill=\"none\" points=\"208,-53 110,-53 110,-0 208,-0 208,-53\" stroke=\"black\"/>\n",
       "<text font-family=\"Times New Roman,serif\" font-size=\"14.00\" text-anchor=\"middle\" x=\"159\" y=\"-37.8\">mse = 3.012</text>\n",
       "<text font-family=\"Times New Roman,serif\" font-size=\"14.00\" text-anchor=\"middle\" x=\"159\" y=\"-22.8\">samples = 98</text>\n",
       "<text font-family=\"Times New Roman,serif\" font-size=\"14.00\" text-anchor=\"middle\" x=\"159\" y=\"-7.8\">value = 12.153</text>\n",
       "</g>\n",
       "<!-- 2&#45;&gt;4 -->\n",
       "<g class=\"edge\" id=\"edge4\"><title>2-&gt;4</title>\n",
       "<path d=\"M159,-88.9485C159,-80.7153 159,-71.848 159,-63.4814\" fill=\"none\" stroke=\"black\"/>\n",
       "<polygon fill=\"black\" points=\"162.5,-63.2367 159,-53.2367 155.5,-63.2367 162.5,-63.2367\" stroke=\"black\"/>\n",
       "</g>\n",
       "<!-- 6 -->\n",
       "<g class=\"node\" id=\"node7\"><title>6</title>\n",
       "<polygon fill=\"none\" points=\"318,-53 226,-53 226,-0 318,-0 318,-53\" stroke=\"black\"/>\n",
       "<text font-family=\"Times New Roman,serif\" font-size=\"14.00\" text-anchor=\"middle\" x=\"272\" y=\"-37.8\">mse = 2.58</text>\n",
       "<text font-family=\"Times New Roman,serif\" font-size=\"14.00\" text-anchor=\"middle\" x=\"272\" y=\"-22.8\">samples = 65</text>\n",
       "<text font-family=\"Times New Roman,serif\" font-size=\"14.00\" text-anchor=\"middle\" x=\"272\" y=\"-7.8\">value = 16.85</text>\n",
       "</g>\n",
       "<!-- 5&#45;&gt;6 -->\n",
       "<g class=\"edge\" id=\"edge6\"><title>5-&gt;6</title>\n",
       "<path d=\"M327.271,-88.9485C319.043,-79.8005 310.11,-69.8697 301.874,-60.7126\" fill=\"none\" stroke=\"black\"/>\n",
       "<polygon fill=\"black\" points=\"304.439,-58.331 295.149,-53.2367 299.235,-63.0123 304.439,-58.331\" stroke=\"black\"/>\n",
       "</g>\n",
       "<!-- 7 -->\n",
       "<g class=\"node\" id=\"node8\"><title>7</title>\n",
       "<polygon fill=\"none\" points=\"434,-53 336,-53 336,-0 434,-0 434,-53\" stroke=\"black\"/>\n",
       "<text font-family=\"Times New Roman,serif\" font-size=\"14.00\" text-anchor=\"middle\" x=\"385\" y=\"-37.8\">mse = 1.238</text>\n",
       "<text font-family=\"Times New Roman,serif\" font-size=\"14.00\" text-anchor=\"middle\" x=\"385\" y=\"-22.8\">samples = 130</text>\n",
       "<text font-family=\"Times New Roman,serif\" font-size=\"14.00\" text-anchor=\"middle\" x=\"385\" y=\"-7.8\">value = 13.504</text>\n",
       "</g>\n",
       "<!-- 5&#45;&gt;7 -->\n",
       "<g class=\"edge\" id=\"edge7\"><title>5-&gt;7</title>\n",
       "<path d=\"M366.793,-88.9485C369.287,-80.5323 371.977,-71.4536 374.504,-62.9243\" fill=\"none\" stroke=\"black\"/>\n",
       "<polygon fill=\"black\" points=\"377.889,-63.819 377.374,-53.2367 371.178,-61.8304 377.889,-63.819\" stroke=\"black\"/>\n",
       "</g>\n",
       "<!-- 9 -->\n",
       "<g class=\"node\" id=\"node10\"><title>9</title>\n",
       "<polygon fill=\"none\" points=\"577,-157 479,-157 479,-89 577,-89 577,-157\" stroke=\"black\"/>\n",
       "<text font-family=\"Times New Roman,serif\" font-size=\"14.00\" text-anchor=\"middle\" x=\"528\" y=\"-141.8\">X7 &lt;= 0.175</text>\n",
       "<text font-family=\"Times New Roman,serif\" font-size=\"14.00\" text-anchor=\"middle\" x=\"528\" y=\"-126.8\">mse = 15.774</text>\n",
       "<text font-family=\"Times New Roman,serif\" font-size=\"14.00\" text-anchor=\"middle\" x=\"528\" y=\"-111.8\">samples = 101</text>\n",
       "<text font-family=\"Times New Roman,serif\" font-size=\"14.00\" text-anchor=\"middle\" x=\"528\" y=\"-96.8\">value = 37.215</text>\n",
       "</g>\n",
       "<!-- 8&#45;&gt;9 -->\n",
       "<g class=\"edge\" id=\"edge9\"><title>8-&gt;9</title>\n",
       "<path d=\"M528,-192.884C528,-184.778 528,-175.982 528,-167.472\" fill=\"none\" stroke=\"black\"/>\n",
       "<polygon fill=\"black\" points=\"531.5,-167.299 528,-157.299 524.5,-167.299 531.5,-167.299\" stroke=\"black\"/>\n",
       "</g>\n",
       "<!-- 12 -->\n",
       "<g class=\"node\" id=\"node13\"><title>12</title>\n",
       "<polygon fill=\"none\" points=\"782,-157 684,-157 684,-89 782,-89 782,-157\" stroke=\"black\"/>\n",
       "<text font-family=\"Times New Roman,serif\" font-size=\"14.00\" text-anchor=\"middle\" x=\"733\" y=\"-141.8\">X7 &lt;= 0.175</text>\n",
       "<text font-family=\"Times New Roman,serif\" font-size=\"14.00\" text-anchor=\"middle\" x=\"733\" y=\"-126.8\">mse = 19.063</text>\n",
       "<text font-family=\"Times New Roman,serif\" font-size=\"14.00\" text-anchor=\"middle\" x=\"733\" y=\"-111.8\">samples = 199</text>\n",
       "<text font-family=\"Times New Roman,serif\" font-size=\"14.00\" text-anchor=\"middle\" x=\"733\" y=\"-96.8\">value = 28.503</text>\n",
       "</g>\n",
       "<!-- 8&#45;&gt;12 -->\n",
       "<g class=\"edge\" id=\"edge12\"><title>8-&gt;12</title>\n",
       "<path d=\"M577.103,-201.568C606.408,-186.987 643.794,-168.386 674.608,-153.054\" fill=\"none\" stroke=\"black\"/>\n",
       "<polygon fill=\"black\" points=\"676.549,-155.997 683.943,-148.409 673.431,-149.73 676.549,-155.997\" stroke=\"black\"/>\n",
       "</g>\n",
       "<!-- 10 -->\n",
       "<g class=\"node\" id=\"node11\"><title>10</title>\n",
       "<polygon fill=\"none\" points=\"550,-53 452,-53 452,-0 550,-0 550,-53\" stroke=\"black\"/>\n",
       "<text font-family=\"Times New Roman,serif\" font-size=\"14.00\" text-anchor=\"middle\" x=\"501\" y=\"-37.8\">mse = 12.244</text>\n",
       "<text font-family=\"Times New Roman,serif\" font-size=\"14.00\" text-anchor=\"middle\" x=\"501\" y=\"-22.8\">samples = 36</text>\n",
       "<text font-family=\"Times New Roman,serif\" font-size=\"14.00\" text-anchor=\"middle\" x=\"501\" y=\"-7.8\">value = 33.269</text>\n",
       "</g>\n",
       "<!-- 9&#45;&gt;10 -->\n",
       "<g class=\"edge\" id=\"edge10\"><title>9-&gt;10</title>\n",
       "<path d=\"M518.557,-88.9485C516.152,-80.5323 513.558,-71.4536 511.121,-62.9243\" fill=\"none\" stroke=\"black\"/>\n",
       "<polygon fill=\"black\" points=\"514.466,-61.8904 508.353,-53.2367 507.735,-63.8135 514.466,-61.8904\" stroke=\"black\"/>\n",
       "</g>\n",
       "<!-- 11 -->\n",
       "<g class=\"node\" id=\"node12\"><title>11</title>\n",
       "<polygon fill=\"none\" points=\"666,-53 568,-53 568,-0 666,-0 666,-53\" stroke=\"black\"/>\n",
       "<text font-family=\"Times New Roman,serif\" font-size=\"14.00\" text-anchor=\"middle\" x=\"617\" y=\"-37.8\">mse = 4.328</text>\n",
       "<text font-family=\"Times New Roman,serif\" font-size=\"14.00\" text-anchor=\"middle\" x=\"617\" y=\"-22.8\">samples = 65</text>\n",
       "<text font-family=\"Times New Roman,serif\" font-size=\"14.00\" text-anchor=\"middle\" x=\"617\" y=\"-7.8\">value = 39.401</text>\n",
       "</g>\n",
       "<!-- 9&#45;&gt;11 -->\n",
       "<g class=\"edge\" id=\"edge11\"><title>9-&gt;11</title>\n",
       "<path d=\"M559.128,-88.9485C567.743,-79.8005 577.096,-69.8697 585.72,-60.7126\" fill=\"none\" stroke=\"black\"/>\n",
       "<polygon fill=\"black\" points=\"588.453,-62.9161 592.761,-53.2367 583.357,-58.1168 588.453,-62.9161\" stroke=\"black\"/>\n",
       "</g>\n",
       "<!-- 13 -->\n",
       "<g class=\"node\" id=\"node14\"><title>13</title>\n",
       "<polygon fill=\"none\" points=\"782,-53 684,-53 684,-0 782,-0 782,-53\" stroke=\"black\"/>\n",
       "<text font-family=\"Times New Roman,serif\" font-size=\"14.00\" text-anchor=\"middle\" x=\"733\" y=\"-37.8\">mse = 12.6</text>\n",
       "<text font-family=\"Times New Roman,serif\" font-size=\"14.00\" text-anchor=\"middle\" x=\"733\" y=\"-22.8\">samples = 73</text>\n",
       "<text font-family=\"Times New Roman,serif\" font-size=\"14.00\" text-anchor=\"middle\" x=\"733\" y=\"-7.8\">value = 24.533</text>\n",
       "</g>\n",
       "<!-- 12&#45;&gt;13 -->\n",
       "<g class=\"edge\" id=\"edge13\"><title>12-&gt;13</title>\n",
       "<path d=\"M733,-88.9485C733,-80.7153 733,-71.848 733,-63.4814\" fill=\"none\" stroke=\"black\"/>\n",
       "<polygon fill=\"black\" points=\"736.5,-63.2367 733,-53.2367 729.5,-63.2367 736.5,-63.2367\" stroke=\"black\"/>\n",
       "</g>\n",
       "<!-- 14 -->\n",
       "<g class=\"node\" id=\"node15\"><title>14</title>\n",
       "<polygon fill=\"none\" points=\"898,-53 800,-53 800,-0 898,-0 898,-53\" stroke=\"black\"/>\n",
       "<text font-family=\"Times New Roman,serif\" font-size=\"14.00\" text-anchor=\"middle\" x=\"849\" y=\"-37.8\">mse = 8.387</text>\n",
       "<text font-family=\"Times New Roman,serif\" font-size=\"14.00\" text-anchor=\"middle\" x=\"849\" y=\"-22.8\">samples = 126</text>\n",
       "<text font-family=\"Times New Roman,serif\" font-size=\"14.00\" text-anchor=\"middle\" x=\"849\" y=\"-7.8\">value = 30.803</text>\n",
       "</g>\n",
       "<!-- 12&#45;&gt;14 -->\n",
       "<g class=\"edge\" id=\"edge14\"><title>12-&gt;14</title>\n",
       "<path d=\"M773.571,-88.9485C785.25,-79.4346 797.967,-69.074 809.575,-59.6175\" fill=\"none\" stroke=\"black\"/>\n",
       "<polygon fill=\"black\" points=\"811.865,-62.2663 817.408,-53.2367 807.444,-56.8392 811.865,-62.2663\" stroke=\"black\"/>\n",
       "</g>\n",
       "</g>\n",
       "</svg>"
      ],
      "text/plain": [
       "<IPython.core.display.SVG object>"
      ]
     },
     "metadata": {},
     "output_type": "display_data"
    }
   ],
   "source": [
    "from IPython.display import SVG, display\n",
    "display(SVG(graph.create_svg()))"
   ]
  },
  {
   "cell_type": "code",
   "execution_count": 13,
   "metadata": {},
   "outputs": [
    {
     "name": "stdout",
     "output_type": "stream",
     "text": [
      "Train error 5.504362271937294\n",
      "Test error 6.519560988462785\n"
     ]
    },
    {
     "data": {
      "image/png": "[encoded data removed]",
      "text/plain": [
       "<Figure size 288x288 with 1 Axes>"
      ]
     },
     "metadata": {},
     "output_type": "display_data"
    }
   ],
   "source": [
    "# make predictions on test and train set \n",
    "trainpred=DT.predict(train[['X1','X2','X3','X4','X5','X6','X7','X8']])\n",
    "testpred=DT.predict(test[['X1','X2','X3','X4','X5','X6','X7','X8']])\n",
    "\n",
    "#parity plot \n",
    "plt.figure(figsize=(4,4))\n",
    "plt.xlim([0,50]);\n",
    "plt.ylim([0,50]);\n",
    "plt.scatter(train.Y1,trainpred)\n",
    "plt.scatter(test.Y1,testpred,color='r')\n",
    "plt.plot([0,50],[0,50],lw=4,color='black')\n",
    "\n",
    "#calculate the test and train error\n",
    "print(\"Train error\",mean_squared_error(train.Y1,trainpred))\n",
    "print(\"Test error\",mean_squared_error(test.Y1,testpred))"
   ]
  },
  {
   "cell_type": "markdown",
   "metadata": {},
   "source": [
    "## Test and training set error as a function of maximum tree depth "
   ]
  },
  {
   "cell_type": "code",
   "execution_count": 14,
   "metadata": {},
   "outputs": [],
   "source": [
    "trainerror = []\n",
    "testerror = []\n",
    "\n",
    "trees = np.arange(1,20,1)\n",
    "#model=tree.DecisionTreeRegressor()\n",
    "\n",
    "# loop over lambda values (strength of regularization)\n",
    "for t in trees:\n",
    "    model=tree.DecisionTreeRegressor(max_depth=t)\n",
    "    model.fit(train[['X1','X2','X3','X4','X5','X6','X7','X8']],train.Y1)\n",
    "    trainerror.append(mean_squared_error(train.Y1,model.predict(\n",
    "        train[['X1','X2','X3','X4','X5','X6','X7','X8']])))\n",
    "    testerror.append(mean_squared_error(test.Y1,model.predict(\n",
    "        test[['X1','X2','X3','X4','X5','X6','X7','X8']])))\n",
    "\n",
    "\n"
   ]
  },
  {
   "cell_type": "code",
   "execution_count": 15,
   "metadata": {},
   "outputs": [
    {
     "data": {
      "text/plain": [
       "Text(0,0.5,'MSE for $Y1$')"
      ]
     },
     "execution_count": 15,
     "metadata": {},
     "output_type": "execute_result"
    },
    {
     "data": {
      "image/png": "[encoded data removed]",
      "text/plain": [
       "<Figure size 576x288 with 2 Axes>"
      ]
     },
     "metadata": {},
     "output_type": "display_data"
    }
   ],
   "source": [
    "plt.figure(figsize=(8,4))\n",
    "plt.subplot(121)\n",
    "plt.plot(trees,trainerror,marker='o',label='testerror')\n",
    "plt.plot(trees,testerror,marker=\"s\",label='trainerror')\n",
    "plt.legend()\n",
    "plt.xlabel('Max tree depth')\n",
    "plt.ylabel('MSE for $Y1$')\n",
    "plt.subplot(122)\n",
    "plt.plot(trees,trainerror,marker='o',label='testerror')\n",
    "plt.plot(trees,testerror,marker=\"s\",label='trainerror')\n",
    "plt.ylim((0,1))\n",
    "plt.xlim((5,15))\n",
    "plt.legend()\n",
    "plt.xlabel('Max tree depth')\n",
    "plt.ylabel('MSE for $Y1$')"
   ]
  },
  {
   "cell_type": "code",
   "execution_count": null,
   "metadata": {},
   "outputs": [],
   "source": []
  }
 ],
 "metadata": {
  "anaconda-cloud": {},
  "kernelspec": {
   "display_name": "Python 3",
   "language": "python",
   "name": "python3"
  },
  "language_info": {
   "codemirror_mode": {
    "name": "ipython",
    "version": 3
   },
   "file_extension": ".py",
   "mimetype": "text/x-python",
   "name": "python",
   "nbconvert_exporter": "python",
   "pygments_lexer": "ipython3",
   "version": "3.7.0"
  }
 },
 "nbformat": 4,
 "nbformat_minor": 1
}
